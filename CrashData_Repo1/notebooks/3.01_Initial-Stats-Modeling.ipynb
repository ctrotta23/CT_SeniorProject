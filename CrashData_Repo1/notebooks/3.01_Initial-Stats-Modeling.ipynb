{
 "cells": [
  {
   "cell_type": "markdown",
   "metadata": {},
   "source": [
    "Want to try out statistical regressions. Not sure if these will be the best models for these questions, but want to experiem"
   ]
  }
 ],
 "metadata": {
  "language_info": {
   "name": "python"
  }
 },
 "nbformat": 4,
 "nbformat_minor": 2
}
