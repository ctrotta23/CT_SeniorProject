{
 "cells": [
  {
   "cell_type": "code",
   "execution_count": 1,
   "metadata": {},
   "outputs": [],
   "source": [
    "# Set up cell\n",
    "import pandas as pd\n",
    "#import numpy as np\n",
    "#import matplotlib.pyplot as plt\n",
    "#import seaborn as sns\n",
    "\n",
    "df = pd.read_csv(\"C:/Users/chris/Documents/Senior_Project/CT_SeniorProject/CrashData_Repo1/data/raw/raw_data.csv\")"
   ]
  },
  {
   "cell_type": "code",
   "execution_count": 2,
   "metadata": {},
   "outputs": [
    {
     "name": "stdout",
     "output_type": "stream",
     "text": [
      "Index(['CRASH_RECORD_ID', 'CRASH_DATE_EST_I', 'CRASH_DATE',\n",
      "       'POSTED_SPEED_LIMIT', 'TRAFFIC_CONTROL_DEVICE', 'DEVICE_CONDITION',\n",
      "       'WEATHER_CONDITION', 'LIGHTING_CONDITION', 'FIRST_CRASH_TYPE',\n",
      "       'TRAFFICWAY_TYPE', 'LANE_CNT', 'ALIGNMENT', 'ROADWAY_SURFACE_COND',\n",
      "       'ROAD_DEFECT', 'REPORT_TYPE', 'CRASH_TYPE', 'INTERSECTION_RELATED_I',\n",
      "       'NOT_RIGHT_OF_WAY_I', 'HIT_AND_RUN_I', 'DAMAGE', 'DATE_POLICE_NOTIFIED',\n",
      "       'PRIM_CONTRIBUTORY_CAUSE', 'SEC_CONTRIBUTORY_CAUSE', 'STREET_NO',\n",
      "       'STREET_DIRECTION', 'STREET_NAME', 'BEAT_OF_OCCURRENCE',\n",
      "       'PHOTOS_TAKEN_I', 'STATEMENTS_TAKEN_I', 'DOORING_I', 'WORK_ZONE_I',\n",
      "       'WORK_ZONE_TYPE', 'WORKERS_PRESENT_I', 'NUM_UNITS',\n",
      "       'MOST_SEVERE_INJURY', 'INJURIES_TOTAL', 'INJURIES_FATAL',\n",
      "       'INJURIES_INCAPACITATING', 'INJURIES_NON_INCAPACITATING',\n",
      "       'INJURIES_REPORTED_NOT_EVIDENT', 'INJURIES_NO_INDICATION',\n",
      "       'INJURIES_UNKNOWN', 'CRASH_HOUR', 'CRASH_DAY_OF_WEEK', 'CRASH_MONTH',\n",
      "       'LATITUDE', 'LONGITUDE', 'LOCATION'],\n",
      "      dtype='object')\n",
      "<class 'pandas.core.frame.DataFrame'>\n",
      "RangeIndex: 891717 entries, 0 to 891716\n",
      "Data columns (total 48 columns):\n",
      " #   Column                         Non-Null Count   Dtype  \n",
      "---  ------                         --------------   -----  \n",
      " 0   CRASH_RECORD_ID                891717 non-null  object \n",
      " 1   CRASH_DATE_EST_I               65905 non-null   object \n",
      " 2   CRASH_DATE                     891717 non-null  object \n",
      " 3   POSTED_SPEED_LIMIT             891717 non-null  int64  \n",
      " 4   TRAFFIC_CONTROL_DEVICE         891717 non-null  object \n",
      " 5   DEVICE_CONDITION               891717 non-null  object \n",
      " 6   WEATHER_CONDITION              891717 non-null  object \n",
      " 7   LIGHTING_CONDITION             891717 non-null  object \n",
      " 8   FIRST_CRASH_TYPE               891717 non-null  object \n",
      " 9   TRAFFICWAY_TYPE                891717 non-null  object \n",
      " 10  LANE_CNT                       199020 non-null  float64\n",
      " 11  ALIGNMENT                      891717 non-null  object \n",
      " 12  ROADWAY_SURFACE_COND           891717 non-null  object \n",
      " 13  ROAD_DEFECT                    891717 non-null  object \n",
      " 14  REPORT_TYPE                    864134 non-null  object \n",
      " 15  CRASH_TYPE                     891717 non-null  object \n",
      " 16  INTERSECTION_RELATED_I         204689 non-null  object \n",
      " 17  NOT_RIGHT_OF_WAY_I             40641 non-null   object \n",
      " 18  HIT_AND_RUN_I                  279687 non-null  object \n",
      " 19  DAMAGE                         891717 non-null  object \n",
      " 20  DATE_POLICE_NOTIFIED           891717 non-null  object \n",
      " 21  PRIM_CONTRIBUTORY_CAUSE        891717 non-null  object \n",
      " 22  SEC_CONTRIBUTORY_CAUSE         891717 non-null  object \n",
      " 23  STREET_NO                      891717 non-null  int64  \n",
      " 24  STREET_DIRECTION               891713 non-null  object \n",
      " 25  STREET_NAME                    891716 non-null  object \n",
      " 26  BEAT_OF_OCCURRENCE             891712 non-null  float64\n",
      " 27  PHOTOS_TAKEN_I                 12167 non-null   object \n",
      " 28  STATEMENTS_TAKEN_I             20506 non-null   object \n",
      " 29  DOORING_I                      2830 non-null    object \n",
      " 30  WORK_ZONE_I                    5000 non-null    object \n",
      " 31  WORK_ZONE_TYPE                 3863 non-null    object \n",
      " 32  WORKERS_PRESENT_I              1287 non-null    object \n",
      " 33  NUM_UNITS                      891717 non-null  int64  \n",
      " 34  MOST_SEVERE_INJURY             889739 non-null  object \n",
      " 35  INJURIES_TOTAL                 889753 non-null  float64\n",
      " 36  INJURIES_FATAL                 889753 non-null  float64\n",
      " 37  INJURIES_INCAPACITATING        889753 non-null  float64\n",
      " 38  INJURIES_NON_INCAPACITATING    889753 non-null  float64\n",
      " 39  INJURIES_REPORTED_NOT_EVIDENT  889753 non-null  float64\n",
      " 40  INJURIES_NO_INDICATION         889753 non-null  float64\n",
      " 41  INJURIES_UNKNOWN               889753 non-null  float64\n",
      " 42  CRASH_HOUR                     891717 non-null  int64  \n",
      " 43  CRASH_DAY_OF_WEEK              891717 non-null  int64  \n",
      " 44  CRASH_MONTH                    891717 non-null  int64  \n",
      " 45  LATITUDE                       885301 non-null  float64\n",
      " 46  LONGITUDE                      885301 non-null  float64\n",
      " 47  LOCATION                       885301 non-null  object \n",
      "dtypes: float64(11), int64(6), object(31)\n",
      "memory usage: 326.6+ MB\n"
     ]
    }
   ],
   "source": [
    "# Return columns and info of data frame\n",
    "print(df.columns)\n",
    "df.info()"
   ]
  }
 ],
 "metadata": {
  "kernelspec": {
   "display_name": ".venv",
   "language": "python",
   "name": "python3"
  },
  "language_info": {
   "codemirror_mode": {
    "name": "ipython",
    "version": 3
   },
   "file_extension": ".py",
   "mimetype": "text/x-python",
   "name": "python",
   "nbconvert_exporter": "python",
   "pygments_lexer": "ipython3",
   "version": "3.9.13"
  }
 },
 "nbformat": 4,
 "nbformat_minor": 2
}
