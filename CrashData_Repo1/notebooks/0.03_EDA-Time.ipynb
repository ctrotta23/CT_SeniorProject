{
 "cells": [
  {
   "cell_type": "code",
   "execution_count": 1,
   "metadata": {},
   "outputs": [
    {
     "name": "stderr",
     "output_type": "stream",
     "text": [
      "C:\\Users\\chris\\AppData\\Local\\Temp\\ipykernel_12736\\2558445396.py:8: UserWarning: Could not infer format, so each element will be parsed individually, falling back to `dateutil`. To ensure parsing is consistent and as-expected, please specify a format.\n",
      "  df['CRASH_DATE'] = pd.to_datetime(df['CRASH_DATE'])\n"
     ]
    }
   ],
   "source": [
    "# Set up cell\n",
    "import pandas as pd\n",
    "#import numpy as np\n",
    "import matplotlib.pyplot as plt\n",
    "#import seaborn as sns\n",
    "\n",
    "df = pd.read_csv(\"C:/Users/chris/Documents/Senior_Project/CT_SeniorProject/CrashData_Repo1/data/raw/raw_data.csv\")\n",
    "df['CRASH_DATE'] = pd.to_datetime(df['CRASH_DATE'])\n",
    "df['CRASH_YEAR'] = df['CRASH_DATE'].dt.year\n",
    "df['CRASH_YEAR_X'] = df['CRASH_YEAR'].apply(lambda x: x if x not in [2013, 2014, 2015, 2016] else None)\n",
    "df['CRASH_COUNT'] = df.groupby('CRASH_DAY_OF_WEEK')['CRASH_YEAR_X'].transform('size')"
   ]
  },
  {
   "cell_type": "markdown",
   "metadata": {},
   "source": [
    "This notebook will explore how various time factors influence accidents. We will investigate:\n",
    "\n",
    "1. Compare the number of crashes per each day of the week\n",
    "2. Take the most frequent day of week, break it down by 24 hours and look into patterns. \n",
    "3. Create a \"heat map\" showing which times of day during each day of the week most frequently have crashes."
   ]
  },
  {
   "cell_type": "code",
   "execution_count": 2,
   "metadata": {},
   "outputs": [
    {
     "name": "stderr",
     "output_type": "stream",
     "text": [
      "C:\\Users\\chris\\AppData\\Local\\Temp\\ipykernel_12736\\3292204547.py:2: UserWarning: Could not infer format, so each element will be parsed individually, falling back to `dateutil`. To ensure parsing is consistent and as-expected, please specify a format.\n",
      "  df['CRASH_DATE'] = pd.to_datetime(df['CRASH_DATE'])\n"
     ]
    },
    {
     "ename": "KeyError",
     "evalue": "'CRASH_DAY_OF_WEEK'",
     "output_type": "error",
     "traceback": [
      "\u001b[1;31m---------------------------------------------------------------------------\u001b[0m",
      "\u001b[1;31mKeyError\u001b[0m                                  Traceback (most recent call last)",
      "Cell \u001b[1;32mIn[2], line 7\u001b[0m\n\u001b[0;32m      4\u001b[0m df[\u001b[38;5;124m'\u001b[39m\u001b[38;5;124mCRASH_YEAR_X\u001b[39m\u001b[38;5;124m'\u001b[39m] \u001b[38;5;241m=\u001b[39m df[\u001b[38;5;124m'\u001b[39m\u001b[38;5;124mCRASH_YEAR\u001b[39m\u001b[38;5;124m'\u001b[39m]\u001b[38;5;241m.\u001b[39mapply(\u001b[38;5;28;01mlambda\u001b[39;00m x: x \u001b[38;5;28;01mif\u001b[39;00m x \u001b[38;5;129;01mnot\u001b[39;00m \u001b[38;5;129;01min\u001b[39;00m [\u001b[38;5;241m2013\u001b[39m, \u001b[38;5;241m2014\u001b[39m, \u001b[38;5;241m2015\u001b[39m, \u001b[38;5;241m2016\u001b[39m, \u001b[38;5;241m2017\u001b[39m] \u001b[38;5;28;01melse\u001b[39;00m \u001b[38;5;28;01mNone\u001b[39;00m)\n\u001b[0;32m      6\u001b[0m \u001b[38;5;66;03m# Calculate the average number of crashes per day of the week\u001b[39;00m\n\u001b[1;32m----> 7\u001b[0m crashes_per_day \u001b[38;5;241m=\u001b[39m \u001b[43mdf\u001b[49m\u001b[43m[\u001b[49m\u001b[38;5;124;43m'\u001b[39;49m\u001b[38;5;124;43mCRASH_YEAR_X\u001b[39;49m\u001b[38;5;124;43m'\u001b[39;49m\u001b[43m]\u001b[49m\u001b[38;5;241;43m.\u001b[39;49m\u001b[43mgroupby\u001b[49m\u001b[43m(\u001b[49m\u001b[38;5;124;43m'\u001b[39;49m\u001b[38;5;124;43mCRASH_DAY_OF_WEEK\u001b[39;49m\u001b[38;5;124;43m'\u001b[39;49m\u001b[43m)\u001b[49m\u001b[38;5;241m.\u001b[39msize()\u001b[38;5;241m.\u001b[39mreset_index(name\u001b[38;5;241m=\u001b[39m\u001b[38;5;124m'\u001b[39m\u001b[38;5;124mCRASH_COUNT\u001b[39m\u001b[38;5;124m'\u001b[39m)\n\u001b[0;32m      9\u001b[0m \u001b[38;5;66;03m# Plot the data\u001b[39;00m\n\u001b[0;32m     10\u001b[0m plt\u001b[38;5;241m.\u001b[39mfigure(figsize\u001b[38;5;241m=\u001b[39m(\u001b[38;5;241m10\u001b[39m, \u001b[38;5;241m6\u001b[39m))\n",
      "File \u001b[1;32mc:\\Users\\chris\\Documents\\Senior_Project\\CT_SeniorProject\\.venv\\lib\\site-packages\\pandas\\core\\series.py:2247\u001b[0m, in \u001b[0;36mSeries.groupby\u001b[1;34m(self, by, axis, level, as_index, sort, group_keys, observed, dropna)\u001b[0m\n\u001b[0;32m   2244\u001b[0m     \u001b[38;5;28;01mraise\u001b[39;00m \u001b[38;5;167;01mTypeError\u001b[39;00m(\u001b[38;5;124m\"\u001b[39m\u001b[38;5;124mas_index=False only valid with DataFrame\u001b[39m\u001b[38;5;124m\"\u001b[39m)\n\u001b[0;32m   2245\u001b[0m axis \u001b[38;5;241m=\u001b[39m \u001b[38;5;28mself\u001b[39m\u001b[38;5;241m.\u001b[39m_get_axis_number(axis)\n\u001b[1;32m-> 2247\u001b[0m \u001b[38;5;28;01mreturn\u001b[39;00m \u001b[43mSeriesGroupBy\u001b[49m\u001b[43m(\u001b[49m\n\u001b[0;32m   2248\u001b[0m \u001b[43m    \u001b[49m\u001b[43mobj\u001b[49m\u001b[38;5;241;43m=\u001b[39;49m\u001b[38;5;28;43mself\u001b[39;49m\u001b[43m,\u001b[49m\n\u001b[0;32m   2249\u001b[0m \u001b[43m    \u001b[49m\u001b[43mkeys\u001b[49m\u001b[38;5;241;43m=\u001b[39;49m\u001b[43mby\u001b[49m\u001b[43m,\u001b[49m\n\u001b[0;32m   2250\u001b[0m \u001b[43m    \u001b[49m\u001b[43maxis\u001b[49m\u001b[38;5;241;43m=\u001b[39;49m\u001b[43maxis\u001b[49m\u001b[43m,\u001b[49m\n\u001b[0;32m   2251\u001b[0m \u001b[43m    \u001b[49m\u001b[43mlevel\u001b[49m\u001b[38;5;241;43m=\u001b[39;49m\u001b[43mlevel\u001b[49m\u001b[43m,\u001b[49m\n\u001b[0;32m   2252\u001b[0m \u001b[43m    \u001b[49m\u001b[43mas_index\u001b[49m\u001b[38;5;241;43m=\u001b[39;49m\u001b[43mas_index\u001b[49m\u001b[43m,\u001b[49m\n\u001b[0;32m   2253\u001b[0m \u001b[43m    \u001b[49m\u001b[43msort\u001b[49m\u001b[38;5;241;43m=\u001b[39;49m\u001b[43msort\u001b[49m\u001b[43m,\u001b[49m\n\u001b[0;32m   2254\u001b[0m \u001b[43m    \u001b[49m\u001b[43mgroup_keys\u001b[49m\u001b[38;5;241;43m=\u001b[39;49m\u001b[43mgroup_keys\u001b[49m\u001b[43m,\u001b[49m\n\u001b[0;32m   2255\u001b[0m \u001b[43m    \u001b[49m\u001b[43mobserved\u001b[49m\u001b[38;5;241;43m=\u001b[39;49m\u001b[43mobserved\u001b[49m\u001b[43m,\u001b[49m\n\u001b[0;32m   2256\u001b[0m \u001b[43m    \u001b[49m\u001b[43mdropna\u001b[49m\u001b[38;5;241;43m=\u001b[39;49m\u001b[43mdropna\u001b[49m\u001b[43m,\u001b[49m\n\u001b[0;32m   2257\u001b[0m \u001b[43m\u001b[49m\u001b[43m)\u001b[49m\n",
      "File \u001b[1;32mc:\\Users\\chris\\Documents\\Senior_Project\\CT_SeniorProject\\.venv\\lib\\site-packages\\pandas\\core\\groupby\\groupby.py:1329\u001b[0m, in \u001b[0;36mGroupBy.__init__\u001b[1;34m(self, obj, keys, axis, level, grouper, exclusions, selection, as_index, sort, group_keys, observed, dropna)\u001b[0m\n\u001b[0;32m   1326\u001b[0m \u001b[38;5;28mself\u001b[39m\u001b[38;5;241m.\u001b[39mdropna \u001b[38;5;241m=\u001b[39m dropna\n\u001b[0;32m   1328\u001b[0m \u001b[38;5;28;01mif\u001b[39;00m grouper \u001b[38;5;129;01mis\u001b[39;00m \u001b[38;5;28;01mNone\u001b[39;00m:\n\u001b[1;32m-> 1329\u001b[0m     grouper, exclusions, obj \u001b[38;5;241m=\u001b[39m \u001b[43mget_grouper\u001b[49m\u001b[43m(\u001b[49m\n\u001b[0;32m   1330\u001b[0m \u001b[43m        \u001b[49m\u001b[43mobj\u001b[49m\u001b[43m,\u001b[49m\n\u001b[0;32m   1331\u001b[0m \u001b[43m        \u001b[49m\u001b[43mkeys\u001b[49m\u001b[43m,\u001b[49m\n\u001b[0;32m   1332\u001b[0m \u001b[43m        \u001b[49m\u001b[43maxis\u001b[49m\u001b[38;5;241;43m=\u001b[39;49m\u001b[43maxis\u001b[49m\u001b[43m,\u001b[49m\n\u001b[0;32m   1333\u001b[0m \u001b[43m        \u001b[49m\u001b[43mlevel\u001b[49m\u001b[38;5;241;43m=\u001b[39;49m\u001b[43mlevel\u001b[49m\u001b[43m,\u001b[49m\n\u001b[0;32m   1334\u001b[0m \u001b[43m        \u001b[49m\u001b[43msort\u001b[49m\u001b[38;5;241;43m=\u001b[39;49m\u001b[43msort\u001b[49m\u001b[43m,\u001b[49m\n\u001b[0;32m   1335\u001b[0m \u001b[43m        \u001b[49m\u001b[43mobserved\u001b[49m\u001b[38;5;241;43m=\u001b[39;49m\u001b[38;5;28;43;01mFalse\u001b[39;49;00m\u001b[43m \u001b[49m\u001b[38;5;28;43;01mif\u001b[39;49;00m\u001b[43m \u001b[49m\u001b[43mobserved\u001b[49m\u001b[43m \u001b[49m\u001b[38;5;129;43;01mis\u001b[39;49;00m\u001b[43m \u001b[49m\u001b[43mlib\u001b[49m\u001b[38;5;241;43m.\u001b[39;49m\u001b[43mno_default\u001b[49m\u001b[43m \u001b[49m\u001b[38;5;28;43;01melse\u001b[39;49;00m\u001b[43m \u001b[49m\u001b[43mobserved\u001b[49m\u001b[43m,\u001b[49m\n\u001b[0;32m   1336\u001b[0m \u001b[43m        \u001b[49m\u001b[43mdropna\u001b[49m\u001b[38;5;241;43m=\u001b[39;49m\u001b[38;5;28;43mself\u001b[39;49m\u001b[38;5;241;43m.\u001b[39;49m\u001b[43mdropna\u001b[49m\u001b[43m,\u001b[49m\n\u001b[0;32m   1337\u001b[0m \u001b[43m    \u001b[49m\u001b[43m)\u001b[49m\n\u001b[0;32m   1339\u001b[0m \u001b[38;5;28;01mif\u001b[39;00m observed \u001b[38;5;129;01mis\u001b[39;00m lib\u001b[38;5;241m.\u001b[39mno_default:\n\u001b[0;32m   1340\u001b[0m     \u001b[38;5;28;01mif\u001b[39;00m \u001b[38;5;28many\u001b[39m(ping\u001b[38;5;241m.\u001b[39m_passed_categorical \u001b[38;5;28;01mfor\u001b[39;00m ping \u001b[38;5;129;01min\u001b[39;00m grouper\u001b[38;5;241m.\u001b[39mgroupings):\n",
      "File \u001b[1;32mc:\\Users\\chris\\Documents\\Senior_Project\\CT_SeniorProject\\.venv\\lib\\site-packages\\pandas\\core\\groupby\\grouper.py:1043\u001b[0m, in \u001b[0;36mget_grouper\u001b[1;34m(obj, key, axis, level, sort, observed, validate, dropna)\u001b[0m\n\u001b[0;32m   1041\u001b[0m         in_axis, level, gpr \u001b[38;5;241m=\u001b[39m \u001b[38;5;28;01mFalse\u001b[39;00m, gpr, \u001b[38;5;28;01mNone\u001b[39;00m\n\u001b[0;32m   1042\u001b[0m     \u001b[38;5;28;01melse\u001b[39;00m:\n\u001b[1;32m-> 1043\u001b[0m         \u001b[38;5;28;01mraise\u001b[39;00m \u001b[38;5;167;01mKeyError\u001b[39;00m(gpr)\n\u001b[0;32m   1044\u001b[0m \u001b[38;5;28;01melif\u001b[39;00m \u001b[38;5;28misinstance\u001b[39m(gpr, Grouper) \u001b[38;5;129;01mand\u001b[39;00m gpr\u001b[38;5;241m.\u001b[39mkey \u001b[38;5;129;01mis\u001b[39;00m \u001b[38;5;129;01mnot\u001b[39;00m \u001b[38;5;28;01mNone\u001b[39;00m:\n\u001b[0;32m   1045\u001b[0m     \u001b[38;5;66;03m# Add key to exclusions\u001b[39;00m\n\u001b[0;32m   1046\u001b[0m     exclusions\u001b[38;5;241m.\u001b[39madd(gpr\u001b[38;5;241m.\u001b[39mkey)\n",
      "\u001b[1;31mKeyError\u001b[0m: 'CRASH_DAY_OF_WEEK'"
     ]
    }
   ],
   "source": [
    "df = pd.read_csv(\"C:/Users/chris/Documents/Senior_Project/CT_SeniorProject/CrashData_Repo1/data/raw/raw_data.csv\")\n",
    "df['CRASH_DATE'] = pd.to_datetime(df['CRASH_DATE'])\n",
    "df['CRASH_YEAR'] = df['CRASH_DATE'].dt.year\n",
    "df['CRASH_YEAR_X'] = df['CRASH_YEAR'].apply(lambda x: x if x not in [2013, 2014, 2015, 2016, 2017] else None)\n",
    "\n",
    "# Calculate the average number of crashes per day of the week\n",
    "crashes_per_day = df['CRASH_YEAR_X'].groupby('CRASH_DAY_OF_WEEK').size().reset_index(name='CRASH_COUNT')\n",
    "\n",
    "# Plot the data\n",
    "plt.figure(figsize=(10, 6))\n",
    "plt.bar(crashes_per_day['CRASH_DAY_OF_WEEK'], crashes_per_day['CRASH_COUNT'], color='skyblue')\n",
    "plt.title('Average Number of Crashes per Day of the Week')\n",
    "plt.xlabel('Day of the Week')\n",
    "plt.ylabel('Number of Crashes')\n",
    "plt.xticks(range(1, 8), ['Sunday', 'Monday', 'Tuesday', 'Wednesday', 'Thursday', 'Friday', 'Saturday'])\n",
    "plt.grid(axis='y', alpha=0.3)\n",
    "plt.show()"
   ]
  },
  {
   "cell_type": "code",
   "execution_count": null,
   "metadata": {},
   "outputs": [
    {
     "data": {
      "text/plain": [
       "<bound method NDFrame.describe of                                           CRASH_RECORD_ID CRASH_DATE_EST_I  \\\n",
       "0       6c1659069e9c6285a650e70d6f9b574ed5f64c12888479...              NaN   \n",
       "1       5f54a59fcb087b12ae5b1acff96a3caf4f2d37e79f8db4...              NaN   \n",
       "2       61fcb8c1eb522a6469b460e2134df3d15f82e81fd93e9c...              NaN   \n",
       "3       004cd14d0303a9163aad69a2d7f341b7da2a8572b2ab33...              NaN   \n",
       "4       a1d5f0ea90897745365a4cbb06cc60329a120d89753fac...              NaN   \n",
       "...                                                   ...              ...   \n",
       "891712  bfa8377168b8dc75b4a09bf627b4e28fc77f465911c99b...              NaN   \n",
       "891713  f829a8bd9a1afc120ed6720cdb20a22b1a90b81278002b...              NaN   \n",
       "891714  89dc61af34d393db950397f0cc06d53b56d1f5e5fa14d4...              NaN   \n",
       "891715  9402b28048572992ab737ace5f1cc0cd0fc7bd8e2c71b3...              NaN   \n",
       "891716  54d55bfcc6627f587abbe0d14c42e51b812f930566fb06...              NaN   \n",
       "\n",
       "                CRASH_DATE  POSTED_SPEED_LIMIT TRAFFIC_CONTROL_DEVICE  \\\n",
       "0      2023-08-18 12:50:00                  15                  OTHER   \n",
       "1      2023-07-29 14:45:00                  30         TRAFFIC SIGNAL   \n",
       "2      2023-08-18 17:58:00                  30            NO CONTROLS   \n",
       "3      2019-11-26 08:38:00                  25            NO CONTROLS   \n",
       "4      2023-08-18 10:45:00                  20            NO CONTROLS   \n",
       "...                    ...                 ...                    ...   \n",
       "891712 2023-09-13 13:08:00                  30                UNKNOWN   \n",
       "891713 2020-01-06 08:30:00                  15            NO CONTROLS   \n",
       "891714 2023-06-26 16:50:00                  35            NO CONTROLS   \n",
       "891715 2019-09-02 10:10:00                  30      STOP SIGN/FLASHER   \n",
       "891716 2019-12-28 01:16:00                  35                UNKNOWN   \n",
       "\n",
       "            DEVICE_CONDITION WEATHER_CONDITION      LIGHTING_CONDITION  \\\n",
       "0       FUNCTIONING PROPERLY             CLEAR                DAYLIGHT   \n",
       "1       FUNCTIONING PROPERLY             CLEAR                DAYLIGHT   \n",
       "2                NO CONTROLS             CLEAR                DAYLIGHT   \n",
       "3                NO CONTROLS             CLEAR                DAYLIGHT   \n",
       "4                NO CONTROLS             CLEAR                DAYLIGHT   \n",
       "...                      ...               ...                     ...   \n",
       "891712               UNKNOWN           UNKNOWN                 UNKNOWN   \n",
       "891713           NO CONTROLS             CLEAR                DAYLIGHT   \n",
       "891714           NO CONTROLS             CLEAR                DAYLIGHT   \n",
       "891715  FUNCTIONING PROPERLY             CLEAR                DAYLIGHT   \n",
       "891716               UNKNOWN             CLEAR  DARKNESS, LIGHTED ROAD   \n",
       "\n",
       "                FIRST_CRASH_TYPE                  TRAFFICWAY_TYPE  ...  \\\n",
       "0                       REAR END                            OTHER  ...   \n",
       "1           PARKED MOTOR VEHICLE  DIVIDED - W/MEDIAN (NOT RAISED)  ...   \n",
       "2                   PEDALCYCLIST                      NOT DIVIDED  ...   \n",
       "3                     PEDESTRIAN                          ONE-WAY  ...   \n",
       "4                   FIXED OBJECT                            OTHER  ...   \n",
       "...                          ...                              ...  ...   \n",
       "891712                   TURNING                         FOUR WAY  ...   \n",
       "891713                     ANGLE                            ALLEY  ...   \n",
       "891714  SIDESWIPE SAME DIRECTION  DIVIDED - W/MEDIAN (NOT RAISED)  ...   \n",
       "891715                   TURNING                      NOT DIVIDED  ...   \n",
       "891716      PARKED MOTOR VEHICLE                          ONE-WAY  ...   \n",
       "\n",
       "        INJURIES_UNKNOWN CRASH_HOUR CRASH_DAY_OF_WEEK CRASH_MONTH   LATITUDE  \\\n",
       "0                    0.0         12                 6           8        NaN   \n",
       "1                    0.0         14                 7           7  41.854120   \n",
       "2                    0.0         17                 6           8  41.942976   \n",
       "3                    0.0          8                 3          11        NaN   \n",
       "4                    0.0         10                 6           8        NaN   \n",
       "...                  ...        ...               ...         ...        ...   \n",
       "891712               0.0         13                 4           9  41.923913   \n",
       "891713               0.0          8                 2           1  41.865595   \n",
       "891714               0.0         16                 2           6  41.746905   \n",
       "891715               0.0         10                 2           9  41.913449   \n",
       "891716               0.0          1                 7          12  41.685142   \n",
       "\n",
       "        LONGITUDE                                  LOCATION CRASH_YEAR  \\\n",
       "0             NaN                                       NaN       2023   \n",
       "1      -87.665902  POINT (-87.665902342962 41.854120262952)       2023   \n",
       "2      -87.761883  POINT (-87.761883496974 41.942975745006)       2023   \n",
       "3             NaN                                       NaN       2019   \n",
       "4             NaN                                       NaN       2023   \n",
       "...           ...                                       ...        ...   \n",
       "891712 -87.637409  POINT (-87.637408804478 41.923913444256)       2023   \n",
       "891713 -87.623964   POINT (-87.62396444716 41.865594951208)       2020   \n",
       "891714 -87.644077  POINT (-87.644077151581 41.746904607442)       2023   \n",
       "891715 -87.626112  POINT (-87.626112337562 41.913448777932)       2019   \n",
       "891716 -87.628557  POINT (-87.628556919131 41.685141540233)       2019   \n",
       "\n",
       "       CRASH_YEAR_X CRASH_COUNT  \n",
       "0            2023.0      144662  \n",
       "1            2023.0      132107  \n",
       "2            2023.0      144662  \n",
       "3            2019.0      126953  \n",
       "4            2023.0      144662  \n",
       "...             ...         ...  \n",
       "891712       2023.0      126394  \n",
       "891713       2020.0      122175  \n",
       "891714       2023.0      122175  \n",
       "891715       2019.0      122175  \n",
       "891716       2019.0      132107  \n",
       "\n",
       "[891717 rows x 51 columns]>"
      ]
     },
     "execution_count": 2,
     "metadata": {},
     "output_type": "execute_result"
    }
   ],
   "source": [
    "df.describe"
   ]
  }
 ],
 "metadata": {
  "kernelspec": {
   "display_name": ".venv",
   "language": "python",
   "name": "python3"
  },
  "language_info": {
   "codemirror_mode": {
    "name": "ipython",
    "version": 3
   },
   "file_extension": ".py",
   "mimetype": "text/x-python",
   "name": "python",
   "nbconvert_exporter": "python",
   "pygments_lexer": "ipython3",
   "version": "3.9.13"
  }
 },
 "nbformat": 4,
 "nbformat_minor": 2
}
